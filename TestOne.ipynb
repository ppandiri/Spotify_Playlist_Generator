{
  "cells": [
    {
      "cell_type": "markdown",
      "metadata": {
        "id": "view-in-github",
        "colab_type": "text"
      },
      "source": [
        "<a href=\"https://colab.research.google.com/github/ppandiri/Spotify_Playlist_Generator/blob/main/TestOne.ipynb\" target=\"_parent\"><img src=\"https://colab.research.google.com/assets/colab-badge.svg\" alt=\"Open In Colab\"/></a>"
      ]
    },
    {
      "cell_type": "code",
      "execution_count": null,
      "metadata": {
        "id": "_shK-IbtXWSF",
        "colab": {
          "base_uri": "https://localhost:8080/"
        },
        "outputId": "e6faf8be-8b69-4663-9d87-3b1ddeb7b932"
      },
      "outputs": [
        {
          "output_type": "stream",
          "name": "stdout",
          "text": [
            "Mounted at /content/gdrive\n"
          ]
        }
      ],
      "source": [
        "import matplotlib.pyplot as plt\n",
        "from scipy.spatial.distance import euclidean\n",
        "import pandas as pd\n",
        "import numpy as np\n",
        "from google.colab import drive\n",
        "drive.mount('/content/gdrive')"
      ]
    },
    {
      "cell_type": "code",
      "source": [
        "from google.colab import drive\n",
        "drive.mount('/content/drive')"
      ],
      "metadata": {
        "id": "XTOqFwS4X2xG",
        "colab": {
          "base_uri": "https://localhost:8080/"
        },
        "outputId": "7e85e741-3b8c-4dbb-cc82-74761b5c5c47"
      },
      "execution_count": 5,
      "outputs": [
        {
          "output_type": "stream",
          "name": "stdout",
          "text": [
            "Mounted at /content/drive\n"
          ]
        }
      ]
    },
    {
      "cell_type": "code",
      "execution_count": 8,
      "metadata": {
        "id": "6AsCAIQkXWSG",
        "outputId": "4c8b2806-582e-421f-a2ee-6b76f949b667",
        "colab": {
          "base_uri": "https://localhost:8080/"
        }
      },
      "outputs": [
        {
          "output_type": "stream",
          "name": "stdout",
          "text": [
            "Requirement already satisfied: opendatasets in /usr/local/lib/python3.10/dist-packages (0.1.22)\n",
            "Requirement already satisfied: tqdm in /usr/local/lib/python3.10/dist-packages (from opendatasets) (4.66.2)\n",
            "Requirement already satisfied: kaggle in /usr/local/lib/python3.10/dist-packages (from opendatasets) (1.5.16)\n",
            "Requirement already satisfied: click in /usr/local/lib/python3.10/dist-packages (from opendatasets) (8.1.7)\n",
            "Requirement already satisfied: six>=1.10 in /usr/local/lib/python3.10/dist-packages (from kaggle->opendatasets) (1.16.0)\n",
            "Requirement already satisfied: certifi in /usr/local/lib/python3.10/dist-packages (from kaggle->opendatasets) (2024.2.2)\n",
            "Requirement already satisfied: python-dateutil in /usr/local/lib/python3.10/dist-packages (from kaggle->opendatasets) (2.8.2)\n",
            "Requirement already satisfied: requests in /usr/local/lib/python3.10/dist-packages (from kaggle->opendatasets) (2.31.0)\n",
            "Requirement already satisfied: python-slugify in /usr/local/lib/python3.10/dist-packages (from kaggle->opendatasets) (8.0.4)\n",
            "Requirement already satisfied: urllib3 in /usr/local/lib/python3.10/dist-packages (from kaggle->opendatasets) (2.0.7)\n",
            "Requirement already satisfied: bleach in /usr/local/lib/python3.10/dist-packages (from kaggle->opendatasets) (6.1.0)\n",
            "Requirement already satisfied: webencodings in /usr/local/lib/python3.10/dist-packages (from bleach->kaggle->opendatasets) (0.5.1)\n",
            "Requirement already satisfied: text-unidecode>=1.3 in /usr/local/lib/python3.10/dist-packages (from python-slugify->kaggle->opendatasets) (1.3)\n",
            "Requirement already satisfied: charset-normalizer<4,>=2 in /usr/local/lib/python3.10/dist-packages (from requests->kaggle->opendatasets) (3.3.2)\n",
            "Requirement already satisfied: idna<4,>=2.5 in /usr/local/lib/python3.10/dist-packages (from requests->kaggle->opendatasets) (3.6)\n",
            "Please provide your Kaggle credentials to download this dataset. Learn more: http://bit.ly/kaggle-creds\n",
            "Your Kaggle username: prajaypandiri\n",
            "Your Kaggle Key: ··········\n",
            "Downloading 30000-spotify-songs.zip to ./30000-spotify-songs\n"
          ]
        },
        {
          "output_type": "stream",
          "name": "stderr",
          "text": [
            "100%|██████████| 3.01M/3.01M [00:00<00:00, 159MB/s]"
          ]
        },
        {
          "output_type": "stream",
          "name": "stdout",
          "text": [
            "\n"
          ]
        },
        {
          "output_type": "stream",
          "name": "stderr",
          "text": [
            "\n"
          ]
        },
        {
          "output_type": "stream",
          "name": "stdout",
          "text": [
            "Drive already mounted at /content/drive; to attempt to forcibly remount, call drive.mount(\"/content/drive\", force_remount=True).\n",
            "Stored 'newData' (DataFrame)\n"
          ]
        }
      ],
      "source": [
        "#run SpotifyKaggle to get dataset\n",
        "%run /content/drive/MyDrive/SpotifyProject/SpotifyKaggle.ipynb\n",
        "df = newData"
      ]
    },
    {
      "cell_type": "code",
      "execution_count": 9,
      "metadata": {
        "id": "u38RR9HAXWSH",
        "outputId": "de3c7f7b-81f0-417b-dd8f-92f710537876",
        "colab": {
          "base_uri": "https://localhost:8080/"
        }
      },
      "outputs": [
        {
          "output_type": "stream",
          "name": "stdout",
          "text": [
            "Poison\n",
            "Closest Songs:\n",
            "['Ya No Te Quiero', 'Is It Any Wonder?', \"I'm In Love\", 'XO', 'Mull Of Kintyre', 'Suitelady (The Proposal Jam)', 'Anytime Soon', 'Anytime Soon', \"Not Gon' Cry\", 'Not Alone', 'Mixed Personalities (feat. Kanye West)', 'The Advent Of Panurge', 'Meet Me in the Hallway', 'parallel world', 'The Only Way Out', 'Homesick', 'No Woman', 'No Woman', 'Someday', 'Hey There Delilah']\n",
            "['Luz Pinos', 'Durand Jones & The Indications', 'Kem', 'John Mayer', 'Wings', 'Maxwell', 'Chris Beer', 'Chris Beer', 'Mary J. Blige', 'Matthew Miller', 'YNW Melly', 'Gentle Giant', 'Harry Styles', 'teepee', 'Andra Day', 'Kazam', 'Whitney', 'Whitney', 'Ed Whicher', \"Plain White T's\"]\n"
          ]
        }
      ],
      "source": [
        "# Plotting the graph (if we use three features)\n",
        "\"\"\"\n",
        "fig = plt.figure()\n",
        "ax = fig.add_subplot(111, projection='3d')\n",
        "\n",
        "ax.scatter(df['key'], df['valence'], df['energy'], c='b', marker='o')\n",
        "\n",
        "ax.set_xlabel('key')\n",
        "ax.set_ylabel('valence')\n",
        "ax.set_zlabel('energy')\n",
        "\n",
        "plt.show()\n",
        "\n",
        "\"\"\"\n",
        "\n",
        "# Features collected from Population Correlation\n",
        "column_indices = [df.columns.get_loc('key'), df.columns.get_loc('valence'),df.columns.get_loc('energy'), df.columns.get_loc('speechiness')]\n",
        "\n",
        "#Using Poison as Suggestion\n",
        "row_index = df[\"track_id\"].eq(\"5NijSs5dAwaIybq1GaRTIe\").idxmax()\n",
        "print(df.loc[row_index, \"track_name\"])\n",
        "\n",
        "chosen_song = df.iloc[row_index, column_indices]\n",
        "\n",
        "# Calculate Euclidean distances (added speechiness so voice will also have a factor (i.e. instrumentals submitted will return instrumentals))\n",
        "distances = np.apply_along_axis(lambda x: euclidean(chosen_song, x), 1, df[['key', 'valence', 'energy', 'speechiness']].values)\n",
        "\n",
        "# Find the indices of the 20 songs with the smallest distances\n",
        "close_song_list = []\n",
        "close_artist_list = []\n",
        "i = 0\n",
        "while len(close_song_list) < 20:\n",
        "    closest_songs_index = np.argsort(distances)[i]\n",
        "    if df.iloc[closest_songs_index][\"track_name\"] != df.at[row_index,\"track_name\"]:  # preventing the same song from being in the playlist\n",
        "        close_song_list.append(df.iloc[closest_songs_index][\"track_name\"])\n",
        "        close_artist_list.append(df.iloc[closest_songs_index][\"track_artist\"])\n",
        "    i += 1\n",
        "\n",
        "\n",
        "\n",
        "#closest_songs = df.iloc[closest_songs_indices][\"track_name\"].tolist()\n",
        "#closest_artist = df.iloc[closest_songs_indices][\"track_artist\"].tolist()\n",
        "\n",
        "# Display the closest songs\n",
        "print(\"Closest Songs:\")\n",
        "print(close_song_list)\n",
        "print(close_artist_list)\n",
        "#print(closest_artist)"
      ]
    }
  ],
  "metadata": {
    "kernelspec": {
      "display_name": "Python 3",
      "language": "python",
      "name": "python3"
    },
    "language_info": {
      "codemirror_mode": {
        "name": "ipython",
        "version": 3
      },
      "file_extension": ".py",
      "mimetype": "text/x-python",
      "name": "python",
      "nbconvert_exporter": "python",
      "pygments_lexer": "ipython3",
      "version": "3.10.13"
    },
    "colab": {
      "provenance": [],
      "include_colab_link": true
    }
  },
  "nbformat": 4,
  "nbformat_minor": 0
}