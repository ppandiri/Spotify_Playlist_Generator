{
  "cells": [
    {
      "cell_type": "markdown",
      "metadata": {
        "id": "view-in-github",
        "colab_type": "text"
      },
      "source": [
        "<a href=\"https://colab.research.google.com/github/ppandiri/Spotify_Playlist_Generator/blob/main/TestOne.ipynb\" target=\"_parent\"><img src=\"https://colab.research.google.com/assets/colab-badge.svg\" alt=\"Open In Colab\"/></a>"
      ]
    },
    {
      "cell_type": "code",
      "execution_count": 7,
      "metadata": {
        "id": "_shK-IbtXWSF"
      },
      "outputs": [],
      "source": [
        "import matplotlib.pyplot as plt\n",
        "from scipy.spatial.distance import euclidean\n",
        "import pandas as pd\n",
        "import numpy as np"
      ]
    },
    {
      "cell_type": "code",
      "source": [
        "from google.colab import drive\n",
        "drive.mount('/content/drive')"
      ],
      "metadata": {
        "id": "XTOqFwS4X2xG",
        "colab": {
          "base_uri": "https://localhost:8080/"
        },
        "outputId": "40f98691-13a6-484d-88e4-6a268b50c4a2"
      },
      "execution_count": 9,
      "outputs": [
        {
          "output_type": "stream",
          "name": "stdout",
          "text": [
            "Mounted at /content/drive\n"
          ]
        }
      ]
    },
    {
      "cell_type": "code",
      "source": [
        "!pip install spotipy\n",
        "import spotipy as sp\n",
        "from spotipy.oauth2 import SpotifyClientCredentials\n",
        "# Set up Spotipy client\n",
        "client_credentials_manager = SpotifyClientCredentials(client_id='79c44db50adf46d895fb50cdccd7a563', client_secret='7bdf4da181894bf0a96d9b2ab79bffde')\n",
        "sp = spotipy.Spotify(client_credentials_manager=client_credentials_manager)"
      ],
      "metadata": {
        "colab": {
          "base_uri": "https://localhost:8080/"
        },
        "id": "_XzipQSuS2Ic",
        "outputId": "d9816d8b-f78c-4b3e-de02-3a9ca0736b1e"
      },
      "execution_count": 5,
      "outputs": [
        {
          "output_type": "stream",
          "name": "stdout",
          "text": [
            "Requirement already satisfied: spotipy in /usr/local/lib/python3.10/dist-packages (2.23.0)\n",
            "Requirement already satisfied: redis>=3.5.3 in /usr/local/lib/python3.10/dist-packages (from spotipy) (5.0.3)\n",
            "Requirement already satisfied: requests>=2.25.0 in /usr/local/lib/python3.10/dist-packages (from spotipy) (2.31.0)\n",
            "Requirement already satisfied: six>=1.15.0 in /usr/local/lib/python3.10/dist-packages (from spotipy) (1.16.0)\n",
            "Requirement already satisfied: urllib3>=1.26.0 in /usr/local/lib/python3.10/dist-packages (from spotipy) (2.0.7)\n",
            "Requirement already satisfied: async-timeout>=4.0.3 in /usr/local/lib/python3.10/dist-packages (from redis>=3.5.3->spotipy) (4.0.3)\n",
            "Requirement already satisfied: charset-normalizer<4,>=2 in /usr/local/lib/python3.10/dist-packages (from requests>=2.25.0->spotipy) (3.3.2)\n",
            "Requirement already satisfied: idna<4,>=2.5 in /usr/local/lib/python3.10/dist-packages (from requests>=2.25.0->spotipy) (3.6)\n",
            "Requirement already satisfied: certifi>=2017.4.17 in /usr/local/lib/python3.10/dist-packages (from requests>=2.25.0->spotipy) (2024.2.2)\n"
          ]
        }
      ]
    },
    {
      "cell_type": "code",
      "execution_count": 10,
      "metadata": {
        "id": "6AsCAIQkXWSG",
        "outputId": "0d857285-4a86-4fa2-dc0e-5d9edea437e1",
        "colab": {
          "base_uri": "https://localhost:8080/"
        }
      },
      "outputs": [
        {
          "output_type": "stream",
          "name": "stdout",
          "text": [
            "Collecting opendatasets\n",
            "  Downloading opendatasets-0.1.22-py3-none-any.whl (15 kB)\n",
            "Requirement already satisfied: tqdm in /usr/local/lib/python3.10/dist-packages (from opendatasets) (4.66.2)\n",
            "Requirement already satisfied: kaggle in /usr/local/lib/python3.10/dist-packages (from opendatasets) (1.5.16)\n",
            "Requirement already satisfied: click in /usr/local/lib/python3.10/dist-packages (from opendatasets) (8.1.7)\n",
            "Requirement already satisfied: six>=1.10 in /usr/local/lib/python3.10/dist-packages (from kaggle->opendatasets) (1.16.0)\n",
            "Requirement already satisfied: certifi in /usr/local/lib/python3.10/dist-packages (from kaggle->opendatasets) (2024.2.2)\n",
            "Requirement already satisfied: python-dateutil in /usr/local/lib/python3.10/dist-packages (from kaggle->opendatasets) (2.8.2)\n",
            "Requirement already satisfied: requests in /usr/local/lib/python3.10/dist-packages (from kaggle->opendatasets) (2.31.0)\n",
            "Requirement already satisfied: python-slugify in /usr/local/lib/python3.10/dist-packages (from kaggle->opendatasets) (8.0.4)\n",
            "Requirement already satisfied: urllib3 in /usr/local/lib/python3.10/dist-packages (from kaggle->opendatasets) (2.0.7)\n",
            "Requirement already satisfied: bleach in /usr/local/lib/python3.10/dist-packages (from kaggle->opendatasets) (6.1.0)\n",
            "Requirement already satisfied: webencodings in /usr/local/lib/python3.10/dist-packages (from bleach->kaggle->opendatasets) (0.5.1)\n",
            "Requirement already satisfied: text-unidecode>=1.3 in /usr/local/lib/python3.10/dist-packages (from python-slugify->kaggle->opendatasets) (1.3)\n",
            "Requirement already satisfied: charset-normalizer<4,>=2 in /usr/local/lib/python3.10/dist-packages (from requests->kaggle->opendatasets) (3.3.2)\n",
            "Requirement already satisfied: idna<4,>=2.5 in /usr/local/lib/python3.10/dist-packages (from requests->kaggle->opendatasets) (3.6)\n",
            "Installing collected packages: opendatasets\n",
            "Successfully installed opendatasets-0.1.22\n",
            "Please provide your Kaggle credentials to download this dataset. Learn more: http://bit.ly/kaggle-creds\n",
            "Your Kaggle username: bhaviksinghal\n",
            "Your Kaggle Key: ··········\n",
            "Downloading 30000-spotify-songs.zip to ./30000-spotify-songs\n"
          ]
        },
        {
          "output_type": "stream",
          "name": "stderr",
          "text": [
            "100%|██████████| 3.01M/3.01M [00:01<00:00, 3.13MB/s]\n"
          ]
        },
        {
          "output_type": "stream",
          "name": "stdout",
          "text": [
            "\n",
            "Drive already mounted at /content/drive; to attempt to forcibly remount, call drive.mount(\"/content/drive\", force_remount=True).\n",
            "Stored 'newData' (DataFrame)\n"
          ]
        }
      ],
      "source": [
        "#run SpotifyKaggle to get dataset\n",
        "%run /content/drive/MyDrive/SpotifyProject/SpotifyKaggle.ipynb\n",
        "df = newData"
      ]
    },
    {
      "cell_type": "code",
      "execution_count": 25,
      "metadata": {
        "id": "u38RR9HAXWSH",
        "outputId": "b3ca82ca-e702-41fd-82ec-3f38c5811796",
        "colab": {
          "base_uri": "https://localhost:8080/"
        }
      },
      "outputs": [
        {
          "output_type": "stream",
          "name": "stdout",
          "text": [
            "Give me a song to generate a playlist from: See You Again\n",
            "Give me the artist who made that song: Tyler the Creator\n",
            "7KA4W4McWYRpgf0fWsJZWB\n",
            "Track ID for 'See You Again' by 'Tyler the Creator' is: 7KA4W4McWYRpgf0fWsJZWB\n",
            "Features Series:\n",
            "key            6.0000\n",
            "valence        0.6200\n",
            "energy         0.5590\n",
            "speechiness    0.0959\n",
            "dtype: float64\n",
            "Closest Songs:\n",
            "['See You Again (feat. Kali Uchis)', \"God's Great Dance Floor - Remix\", 'God Is Real', 'Dibiase', 'Promise Me', 'Feelings - KAJ Remix', \"I'm So Glad\", 'Road Trips', 'hot girl bummer (with Khea) - Khea Remix', \"Tonight's The Night\", 'Sharpness', 'Quiero - Reggaeton Romantico', 'Hola Beba', 'Louquinho', 'No Goodbye', 'Love Thang', 'Nadie Sabe', 'hot girl bummer', 'ANOTHERLOVE', 'Send My Love (To Your New Lover)']\n",
            "['Tyler, The Creator', 'Reyer', 'India.Arie', '03 Greedo', 'Ballin Entertainment', 'Deep Chills', 'Jamie Jones', 'Kyle Watson', 'blackbear', 'Blackstreet', 'Jamie Woon', 'Cheeky El Exotico', 'Farruko', 'Jão', 'Paul Kalkbrenner', 'Michelle Williams', 'Cheka featuring Michael Stuart', 'blackbear', 'Prince', 'Adele']\n"
          ]
        }
      ],
      "source": [
        "# Plotting the graph (if we use three features)\n",
        "\"\"\"\n",
        "fig = plt.figure()\n",
        "ax = fig.add_subplot(111, projection='3d')\n",
        "\n",
        "ax.scatter(df['key'], df['valence'], df['energy'], c='b', marker='o')\n",
        "\n",
        "ax.set_xlabel('key')\n",
        "ax.set_ylabel('valence')\n",
        "ax.set_zlabel('energy')\n",
        "\n",
        "plt.show()\n",
        "\n",
        "\"\"\"\n",
        "\n",
        "# Features collected from Population Correlation\n",
        "column_indices = [df.columns.get_loc('key'), df.columns.get_loc('valence'),df.columns.get_loc('energy'), df.columns.get_loc('speechiness')]\n",
        "\n",
        "#Getting a suggestion from user input\n",
        "while True:\n",
        "  try:\n",
        "    user_song = input(\"Give me a song to generate a playlist from: \")\n",
        "    user_artist = input(\"Give me the artist who made that song: \")\n",
        "    query = \"track:{} artist:{}\".format(user_song, user_artist)\n",
        "    results = sp.search(q=query, type='track')\n",
        "    track_id = results['tracks']['items'][0]['id']\n",
        "    print(track_id)\n",
        "    print(\"Track ID for '{}' by '{}' is: {}\".format(user_song, user_artist, track_id))\n",
        "    break\n",
        "  except:\n",
        "    print(\"This song is not in the Spotify database\")\n",
        "audio_features = sp.audio_features(track_id)\n",
        "track_features = audio_features[0]  # audio_features is a list, so we take the first (and only) item\n",
        "features_series = pd.Series({\n",
        "    'key': track_features['key'],\n",
        "    'valence': track_features['valence'],\n",
        "    'energy': track_features['energy'],\n",
        "    'speechiness': track_features['speechiness']\n",
        "})\n",
        "print(\"Features Series:\")\n",
        "print(features_series)\n",
        "chosen_song = features_series\n",
        "# Calculate Euclidean distances (added speechiness so voice will also have a factor (i.e. instrumentals submitted will return instrumentals))\n",
        "distances = np.apply_along_axis(lambda x: euclidean(chosen_song, x), 1, df[['key', 'valence', 'energy', 'speechiness']].values)\n",
        "\n",
        "# Find the indices of the 20 songs with the smallest distances\n",
        "close_song_list = []\n",
        "close_artist_list = []\n",
        "i = 0\n",
        "while len(close_song_list) < 20:\n",
        "    closest_songs_index = np.argsort(distances)[i]\n",
        "    # This prevents the same song from being in the playlist twice\n",
        "    if (df.iloc[closest_songs_index][\"track_name\"] != df.at[row_index,\"track_name\"]) and (df.iloc[closest_songs_index][\"track_name\"] not in close_song_list):\n",
        "        close_song_list.append(df.iloc[closest_songs_index][\"track_name\"])\n",
        "        close_artist_list.append(df.iloc[closest_songs_index][\"track_artist\"])\n",
        "\n",
        "    i += 1\n",
        "\n",
        "\n",
        "\n",
        "#closest_songs = df.iloc[closest_songs_indices][\"track_name\"].tolist()\n",
        "#closest_artist = df.iloc[closest_songs_indices][\"track_artist\"].tolist()\n",
        "\n",
        "# Display the closest songs\n",
        "print(\"Closest Songs:\")\n",
        "print(close_song_list)\n",
        "print(close_artist_list)\n",
        "#print(closest_artist)"
      ]
    }
  ],
  "metadata": {
    "kernelspec": {
      "display_name": "Python 3",
      "language": "python",
      "name": "python3"
    },
    "language_info": {
      "codemirror_mode": {
        "name": "ipython",
        "version": 3
      },
      "file_extension": ".py",
      "mimetype": "text/x-python",
      "name": "python",
      "nbconvert_exporter": "python",
      "pygments_lexer": "ipython3",
      "version": "3.10.13"
    },
    "colab": {
      "provenance": [],
      "include_colab_link": true
    }
  },
  "nbformat": 4,
  "nbformat_minor": 0
}