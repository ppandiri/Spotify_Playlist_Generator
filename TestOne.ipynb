{
  "cells": [
    {
      "cell_type": "markdown",
      "metadata": {
        "id": "view-in-github",
        "colab_type": "text"
      },
      "source": [
        "<a href=\"https://colab.research.google.com/github/ppandiri/Spotify_Playlist_Generator/blob/main/TestOne.ipynb\" target=\"_parent\"><img src=\"https://colab.research.google.com/assets/colab-badge.svg\" alt=\"Open In Colab\"/></a>"
      ]
    },
    {
      "cell_type": "code",
      "execution_count": null,
      "metadata": {
        "id": "h3sWgvvO1LX_"
      },
      "outputs": [],
      "source": [
        "import matplotlib.pyplot as plt\n",
        "from scipy.spatial.distance import euclidean\n",
        "import pandas as pd\n",
        "import numpy as np"
      ]
    },
    {
      "cell_type": "code",
      "execution_count": null,
      "metadata": {
        "id": "14-LHfw01LYB",
        "outputId": "a676e939-b7e5-4166-dc58-e247be7c48ba"
      },
      "outputs": [
        {
          "name": "stdout",
          "output_type": "stream",
          "text": [
            "Skipping, found downloaded files in \"./-spotify-tracks-dataset \" (use force=True to force download)\n",
            "Stored 'newData' (DataFrame)\n"
          ]
        },
        {
          "name": "stderr",
          "output_type": "stream",
          "text": [
            "/home/codespace/.local/lib/python3.10/site-packages/IPython/extensions/storemagic.py:229: UserWarning: using autorestore/newData requires you to install the `pickleshare` library.\n",
            "  db[ 'autorestore/' + arg ] = obj\n"
          ]
        }
      ],
      "source": [
        "#load variables from Jupyter Notebook\n",
        "%run SpotifyKaggle.ipynb\n",
        "df = newData"
      ]
    },
    {
      "cell_type": "code",
      "execution_count": null,
      "metadata": {
        "id": "drI1AYQB1LYC",
        "outputId": "7c8ba3a1-5c76-41d8-aba6-38dc1487367b"
      },
      "outputs": [
        {
          "name": "stdout",
          "output_type": "stream",
          "text": [
            "Poison\n",
            "Closest Songs:\n",
            "['Poison', 'Is It Any Wonder?', \"I'm In Love\", 'Suitelady (The Proposal Jam)', \"Not Gon' Cry\", 'Not Alone', 'The Only Way Out', 'No Woman', 'Read All About It, Pt. III', 'Do You Love Her Now', 'Eye of the Tiger', 'Precious', 'Drunk Drivers/Killer Whales', 'Celebrate Tonight', 'Pour It Up', 'Ghostride', 'Long Walks', \"Don't Know How To Love You\", 'Come With Me', 'Fire We Make']\n",
            "['Brent Faiyaz', 'Durand Jones & The Indications', 'Kem', 'Maxwell', 'Mary J. Blige', 'Matthew Miller', 'Andra Day', 'Whitney', 'Emeli Sandé', 'Jai Paul', 'The Rural Alberta Advantage', 'Esperanza Spalding', 'Car Seat Headrest', 'Allen Stone', 'Rihanna', 'Crumb', 'Okvsho', 'Haley Reinhart', 'Shai', 'Alicia Keys']\n"
          ]
        }
      ],
      "source": [
        "# Plotting the graph\n",
        "\"\"\"\n",
        "fig = plt.figure()\n",
        "ax = fig.add_subplot(111, projection='3d')\n",
        "\n",
        "ax.scatter(df['key'], df['valence'], df['energy'], c='b', marker='o')\n",
        "\n",
        "ax.set_xlabel('key')\n",
        "ax.set_ylabel('valence')\n",
        "ax.set_zlabel('energy')\n",
        "\n",
        "plt.show()\n",
        "\n",
        "\"\"\"\n",
        "\n",
        "# Choose a song from the dataset to find the closest songs to it\n",
        "# Replace the index (0) with the desired row index\n",
        "column_indices = [df.columns.get_loc('key'), df.columns.get_loc('valence'),df.columns.get_loc('energy'), df.columns.get_loc('speechiness')]\n",
        "\n",
        "row_index = df[\"track_id\"].eq(\"5NijSs5dAwaIybq1GaRTIe\").idxmax()\n",
        "print(df.loc[row_index, \"track_name\"])\n",
        "\n",
        "chosen_song = df.iloc[row_index, column_indices]\n",
        "\n",
        "# Calculate Euclidean distances\n",
        "distances = np.apply_along_axis(lambda x: euclidean(chosen_song, x), 1, df[['key', 'valence', 'energy', 'speechiness']].values)\n",
        "\n",
        "# Find the indices of the 20 songs with the smallest distances\n",
        "close_song_list = []\n",
        "close_artist_list = []\n",
        "i = 0\n",
        "while len(close_song_list) < 20:\n",
        "    closest_songs_index = np.argsort(distances)[i]\n",
        "    if df.iloc[closest_songs_index][\"playlist_genre\"] == df.at[row_index,\"playlist_genre\"]:\n",
        "        close_song_list.append(df.iloc[closest_songs_index][\"track_name\"])\n",
        "        close_artist_list.append(df.iloc[closest_songs_index][\"track_artist\"])\n",
        "    i += 1\n",
        "\n",
        "\n",
        "\n",
        "#closest_songs = df.iloc[closest_songs_indices][\"track_name\"].tolist()\n",
        "#closest_artist = df.iloc[closest_songs_indices][\"track_artist\"].tolist()\n",
        "\n",
        "# Display the closest songs\n",
        "print(\"Closest Songs:\")\n",
        "print(close_song_list)\n",
        "print(close_artist_list)\n",
        "#print(closest_artist)"
      ]
    }
  ],
  "metadata": {
    "kernelspec": {
      "display_name": "Python 3",
      "language": "python",
      "name": "python3"
    },
    "language_info": {
      "codemirror_mode": {
        "name": "ipython",
        "version": 3
      },
      "file_extension": ".py",
      "mimetype": "text/x-python",
      "name": "python",
      "nbconvert_exporter": "python",
      "pygments_lexer": "ipython3",
      "version": "3.10.13"
    },
    "colab": {
      "provenance": [],
      "include_colab_link": true
    }
  },
  "nbformat": 4,
  "nbformat_minor": 0
}