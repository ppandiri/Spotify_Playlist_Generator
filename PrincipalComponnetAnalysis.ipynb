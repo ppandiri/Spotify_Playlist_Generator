{
 "cells": [
  {
   "cell_type": "code",
   "execution_count": null,
   "metadata": {},
   "outputs": [],
   "source": [
    "from sklearn.decomposition import PCA\n",
    "import pandas as pd\n",
    "%run SpotifyKaggle.ipynb\n",
    "\n",
    "\n",
    "\n",
    "# Assuming df is your pandas DataFrame containing the dataset with song features\n",
    "X = newData.drop(columns=['id','name','album','album_id','artists','artist_ids','track_number','disc_number','explicit','duration_ms','time_signature','year','release_date'])  # Assuming 'song_id' is the identifier column\n",
    "# Perform feature scaling if necessary\n",
    "# Initialize PCA and fit it to your data\n",
    "pca = PCA(n_components=3)  # Choose the number of components\n",
    "pca.fit(X)\n",
    "\n",
    "# Get the importance of each feature in the principal components\n",
    "feature_importance = abs(pca.components_)\n",
    "\n",
    "# Get the indices of the top three features in each component\n",
    "top_three_indices = [component.argsort()[-3:][::-1] for component in feature_importance]\n",
    "\n",
    "# Retrieve the names of the top three features in each component\n",
    "top_three_features = [[X.columns[i] for i in indices] for indices in top_three_indices]\n",
    "\n",
    "print(\"Top three features in each component:\")\n",
    "for i, features in enumerate(top_three_features):\n",
    "    print(f\"Component {i+1}: {features}\")"
   ]
  }
 ],
 "metadata": {
  "language_info": {
   "name": "python"
  }
 },
 "nbformat": 4,
 "nbformat_minor": 2
}
